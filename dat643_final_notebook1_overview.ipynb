{
 "cells": [
  {
   "cell_type": "markdown",
   "metadata": {},
   "source": [
    "# DATA643: Recommender System\n",
    "## Final Project\n",
    "### <i>Harpreet Shoker, Rose Jones, Summer 2018 </i>"
   ]
  },
  {
   "cell_type": "markdown",
   "metadata": {},
   "source": [
    "## Notebook1_Overview\n",
    "\n",
    "Presentation: https://docs.google.com/presentation/d/1L5z-Qh6Vm6tWDemo1SQmHfFOD-QKREQm63htFZcvx-Q/edit?usp=sharing"
   ]
  },
  {
   "cell_type": "markdown",
   "metadata": {},
   "source": [
    "---"
   ]
  },
  {
   "cell_type": "markdown",
   "metadata": {},
   "source": [
    "## Project Overview\n",
    "  \n",
    "Instacart is an American company that operates as a same-day grocery delivery service.  Customers select groceries through a web application from various retailers and the order is delivered by a personal shopper.\n",
    "\n",
    "In this project, we investigate whether the recommender system is effective on re-purchases to compare to recommending the top 10 most popular products to each user. "
   ]
  },
  {
   "cell_type": "markdown",
   "metadata": {},
   "source": [
    "## File Organization\n",
    "\t1) dat643_final_notebook1_overview\n",
    "\t2) dat643_final_notebook2_EDA\n",
    "    3) dat643_final_notebook3_Recommendation_ALS\n",
    "    4) dat643_final_notebook3_ALS_Spark_Databricks"
   ]
  },
  {
   "cell_type": "markdown",
   "metadata": {},
   "source": [
    "## Data\n",
    "\n",
    "This anonymized dataset contains a sample of over 3 million grocery orders from more than 200,000 Instacart users.  For each user, the dataset has 4 to 100 of their orders, with the sequence of products purchased in each order.  The week and hour of the day the order was placed, and a relative measure of time between orders is also available.\n",
    "\n",
    "The dataset is binary data unlike most of recommender system examples.\n"
   ]
  },
  {
   "cell_type": "markdown",
   "metadata": {},
   "source": [
    "## Challenges\n",
    "\n",
    "We use algorithms specifically suited for processing implicit feedback.  It is important to highlight a unique characteristic of implicit feedback as this prevents the application of algorithms that were designed for explicit feedback data.\n",
    "\n",
    "* Despite the prior purchases history of users, we can not infer users preferences of likes or dislikes as it is simply history of purchases without specific metric.\n",
    "\n",
    "* The frequency does not confirm users' preferences.\n",
    "\n",
    "* Implicit recommender system outcome is compared to users' current purchases on the test set using set based measures."
   ]
  },
  {
   "cell_type": "markdown",
   "metadata": {},
   "source": [
    "## Experiment Workflow and Design\n",
    "1) Data Acquisition\n",
    "* The Instacart Online Grocery Shopping Dataset 2017’ which is available for public download at https://www.instacart.com/datasets/grocery-shopping-2017\n",
    "* The dataset contains a sample of over 3 million grocery orders from more than 200,000 Instacart users.\n",
    "\n",
    "2) Missing values and outliers\n",
    "* There are no missing values in the dataset. \n",
    "* There are no obvious outliers as per each user, 4 and 100 of their orders are given, with the sequence of products purchased in each order.\n",
    "\n",
    "3) Data transformations and split\n",
    "* We split the dataset, which is spread over 3 ‘.csv’ ﬁles, into previous and current purchases for every user. \n",
    "    * The prior purchase data is used to build a utility matrix where rows are products, columns are users and each entry $u_{ij}$ is the number of times product $i$ appears in user $u$’s purchase history. \n",
    "    * We use current purchases of 20% of the users in the dataset as the test set.\n",
    "\n",
    "4) Data mining analysis\n",
    "* To Conduct the investigation, we use collaborative ﬁltering techniques, a matrix factorization method that was designed speciﬁcally for implicit feedback datasets.\n",
    "\n",
    "5) Evaluate methods\n",
    "* Each of the above methods are evaluated on an independent test dataset consisting of the current purchases of around 26,000 users, and compared to a baseline model that recommends the 10 most popular products to each user.  This approach allow us to determine whether recommender system is effective in leading purchases on instacart compare to the baseline model that suggests popular top 10 products.\n"
   ]
  },
  {
   "cell_type": "markdown",
   "metadata": {},
   "source": [
    "## Data mining Analysis\n",
    "\n",
    "* Matrix Factorization for Implicit Feedback (ALS)\n",
    "* ALS Spark databricks"
   ]
  },
  {
   "cell_type": "markdown",
   "metadata": {},
   "source": [
    "## Resources\n",
    "\n",
    "* requirements: {os, pathlib, pandas, time, scipy, numpy, pickle, implicit};\n",
    "* source control: {git};\n",
    "* environment: {conda};"
   ]
  },
  {
   "cell_type": "markdown",
   "metadata": {},
   "source": [
    "## References\n",
    "\n",
    "* Stanley, Jeremy. ”3 Million Instacart Orders, Open Sourced tech-at-instacart.” Tech-atinstacart. May 03, 2017. Accessed October 11, 2017. https://tech.instacart.com/3-millioninstacart-orders-open-sourced-d40d29ead6f2\n",
    "\n",
    "* Instacart. “The Instacart Online Grocery Shopping Dataset 2017”, Accessed from https://www.instacart.com/datasets/grocery-shopping-2017 on July 13, 2018\n",
    "\n",
    "* Instacart data description https://gist.github.com/jeremystan/c3b39d947d9b88b3ccff3147dbcf6c6b\n",
    "\n",
    "* Instacart. ”Instacart Market Basket Analysis - Data.” Instacart Market Basket Analysis Accessed July 13, 2018. https://www.kaggle.com/c/instacart-market-basket-analysis/data\n",
    "\n",
    "* DataEngConf SF16 - Recommendations at Instacart https://www.slideshare.net/g33ktalk/dataengconf-sf16-recommendations-at-instacart\n",
    "\n",
    "* Collaborative Filtering for Implicit Feedback Datasets http://yifanhu.net/PUB/cf.pdf"
   ]
  },
  {
   "cell_type": "markdown",
   "metadata": {
    "collapsed": true
   },
   "source": [
    "---"
   ]
  }
 ],
 "metadata": {
  "kernelspec": {
   "display_name": "Python 3",
   "language": "python",
   "name": "python3"
  },
  "language_info": {
   "codemirror_mode": {
    "name": "ipython",
    "version": 3
   },
   "file_extension": ".py",
   "mimetype": "text/x-python",
   "name": "python",
   "nbconvert_exporter": "python",
   "pygments_lexer": "ipython3",
   "version": "3.6.2"
  }
 },
 "nbformat": 4,
 "nbformat_minor": 2
}
